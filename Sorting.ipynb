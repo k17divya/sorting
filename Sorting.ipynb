{
 "cells": [
  {
   "cell_type": "code",
   "execution_count": null,
   "id": "34278282-1b27-4c95-8352-27f33dc3564e",
   "metadata": {},
   "outputs": [],
   "source": [
    "# Q1"
   ]
  },
  {
   "cell_type": "code",
   "execution_count": 2,
   "id": "e6fe0ca6-a42c-4c25-beaf-9e062e0d915d",
   "metadata": {},
   "outputs": [
    {
     "name": "stdout",
     "output_type": "stream",
     "text": [
      "Element appearing maximum times: 4\n"
     ]
    }
   ],
   "source": [
    "def find_max_occurrence(arr):\n",
    "    freq_map = {} \n",
    "    \n",
    "    max_element = arr[0]  # Initialize max_element with the first element\n",
    "    max_count = 1  # Initialize max_count with 1\n",
    "    \n",
    "    for num in arr:\n",
    "        if num in freq_map:\n",
    "            freq_map[num] += 1\n",
    "            if freq_map[num] > max_count:  # Update max_element if a new maximum count is found\n",
    "                max_element = num\n",
    "                max_count = freq_map[num]\n",
    "        else:\n",
    "            freq_map[num] = 1\n",
    "    \n",
    "    return max_element\n",
    "\n",
    "array = [1, 3, 2, 2, 4, 4, 3, 1, 1, 4, 4, 4, 1]\n",
    "result = find_max_occurrence(array)\n",
    "print(\"Element appearing maximum times:\", result)"
   ]
  },
  {
   "cell_type": "code",
   "execution_count": 3,
   "id": "a8c3be13-81c6-47d6-838a-9b68c84e46c5",
   "metadata": {},
   "outputs": [],
   "source": [
    "# Q2"
   ]
  },
  {
   "cell_type": "code",
   "execution_count": 4,
   "id": "2b773ff0-acd8-43fd-a514-3e9419e06fad",
   "metadata": {},
   "outputs": [
    {
     "name": "stdout",
     "output_type": "stream",
     "text": [
      "Missing number is: 5\n"
     ]
    }
   ],
   "source": [
    "def find_missing_number(arr):\n",
    "    n = len(arr) + 1  # n is the total count of elements if the missing number is present\n",
    "    \n",
    "    # Calculate the sum of the first n natural numbers\n",
    "    total_sum = (n * (n + 1)) // 2\n",
    "    \n",
    "    # Calculate the sum of elements in the array\n",
    "    arr_sum = sum(arr)\n",
    "    \n",
    "    # The missing number is the difference between the total sum and the sum of elements in the array\n",
    "    missing_number = total_sum - arr_sum\n",
    "    \n",
    "    return missing_number\n",
    "\n",
    "# Example usage\n",
    "nums = [1, 2, 4, 6, 3, 7, 8]\n",
    "missing_num = find_missing_number(nums)\n",
    "print(\"Missing number is:\", missing_num)"
   ]
  },
  {
   "cell_type": "code",
   "execution_count": 5,
   "id": "66cc1cbd-d24c-4754-a0ed-0e6093b8bb8c",
   "metadata": {},
   "outputs": [],
   "source": [
    "# Q3"
   ]
  },
  {
   "cell_type": "code",
   "execution_count": 6,
   "id": "1901a61d-85ed-46fb-8288-f9281817985d",
   "metadata": {},
   "outputs": [
    {
     "name": "stdout",
     "output_type": "stream",
     "text": [
      "Number occurring odd number of times: 3\n"
     ]
    }
   ],
   "source": [
    "def find_odd_occurrence(arr):\n",
    "    result = 0\n",
    "    \n",
    "    # XOR all elements in the array\n",
    "    for num in arr:\n",
    "        result ^= num\n",
    "    \n",
    "    return result\n",
    "\n",
    "# Example usage\n",
    "numbers = [1, 2, 3, 2, 3, 1, 3]\n",
    "odd_occurrence_number = find_odd_occurrence(numbers)\n",
    "print(\"Number occurring odd number of times:\", odd_occurrence_number)"
   ]
  },
  {
   "cell_type": "code",
   "execution_count": 7,
   "id": "5170e94f-52a3-450c-98ce-4f84c3fb9e94",
   "metadata": {},
   "outputs": [],
   "source": [
    "# Q4"
   ]
  },
  {
   "cell_type": "code",
   "execution_count": 8,
   "id": "05961e7d-c825-446b-9f9b-2550d9531ac9",
   "metadata": {},
   "outputs": [
    {
     "name": "stdout",
     "output_type": "stream",
     "text": [
      "Pair with sum 7 is: No such pair exists.\n"
     ]
    }
   ],
   "source": [
    "def find_pair_with_sum(arr, K):\n",
    "    arr.sort()  # Sort the array\n",
    "    \n",
    "    left = 0\n",
    "    right = len(arr) - 1\n",
    "    \n",
    "    while left < right:\n",
    "        current_sum = arr[left] + arr[right]\n",
    "        \n",
    "        if current_sum == K:\n",
    "            return arr[left], arr[right]\n",
    "        elif current_sum < K:\n",
    "            left += 1\n",
    "        else:\n",
    "            right -= 1\n",
    "    \n",
    "    return \"No such pair exists.\"\n",
    "# example\n",
    "numbers = [1, 4, 9, 8, 7, 9, 4]\n",
    "target_sum = 7\n",
    "pair = find_pair_with_sum(numbers, target_sum)\n",
    "print(\"Pair with sum\", target_sum, \"is:\", pair)"
   ]
  },
  {
   "cell_type": "code",
   "execution_count": 9,
   "id": "21a2d60b-954a-430d-a949-7704d8b98e56",
   "metadata": {},
   "outputs": [],
   "source": [
    "# Q5"
   ]
  },
  {
   "cell_type": "code",
   "execution_count": 10,
   "id": "a0673890-5fa5-4e1a-b9cb-4b3ea1c5115e",
   "metadata": {},
   "outputs": [
    {
     "name": "stdout",
     "output_type": "stream",
     "text": [
      "Pair with sum closest to zero: (6, -8)\n"
     ]
    }
   ],
   "source": [
    "def closest_to_zero(arr):\n",
    "    arr.sort(key=lambda x: abs(x))  # Sort based on absolute values\n",
    "    \n",
    "    left = 0\n",
    "    right = len(arr) - 1\n",
    "    \n",
    "    min_sum = float('inf')\n",
    "    result = (None, None)\n",
    "    \n",
    "    while left < right:\n",
    "        current_sum = arr[left] + arr[right]\n",
    "        \n",
    "        if abs(current_sum) < abs(min_sum):\n",
    "            min_sum = current_sum\n",
    "            result = (arr[left], arr[right])\n",
    "        \n",
    "        if current_sum < 0:\n",
    "            left += 1\n",
    "        else:\n",
    "            right -= 1\n",
    "    \n",
    "    return result\n",
    "\n",
    "# Example usage\n",
    "numbers = [1, 4, -5, 3, 2, -8, 6]\n",
    "pair_closest_to_zero = closest_to_zero(numbers)\n",
    "print(\"Pair with sum closest to zero:\", pair_closest_to_zero)"
   ]
  },
  {
   "cell_type": "code",
   "execution_count": 11,
   "id": "7e3c367d-9fcb-424b-8b53-78af8ec5635f",
   "metadata": {},
   "outputs": [],
   "source": [
    "# Q6"
   ]
  },
  {
   "cell_type": "code",
   "execution_count": 12,
   "id": "d26fd424-9259-4f34-996c-31f698044e1c",
   "metadata": {},
   "outputs": [
    {
     "name": "stdout",
     "output_type": "stream",
     "text": [
      "Triplet with sum 15 is: [1, 5, 9]\n"
     ]
    }
   ],
   "source": [
    "def three_sum(arr, target_sum):\n",
    "    arr.sort()  # Sort the array\n",
    "    \n",
    "    for i in range(len(arr) - 2):\n",
    "        left = i + 1\n",
    "        right = len(arr) - 1\n",
    "        \n",
    "        while left < right:\n",
    "            current_sum = arr[i] + arr[left] + arr[right]\n",
    "            \n",
    "            if current_sum == target_sum:\n",
    "                return [arr[i], arr[left], arr[right]]\n",
    "            elif current_sum < target_sum:\n",
    "                left += 1\n",
    "            else:\n",
    "                right -= 1\n",
    "    \n",
    "    return \"No such triplet exists.\"\n",
    "\n",
    "# Example usage\n",
    "numbers = [1, 4, 2, 8, 3, 9, 5]\n",
    "target = 15\n",
    "triplet = three_sum(numbers, target)\n",
    "print(\"Triplet with sum\", target, \"is:\", triplet)"
   ]
  },
  {
   "cell_type": "code",
   "execution_count": 13,
   "id": "6ee11882-01d7-4317-96d9-62fa6213a0be",
   "metadata": {},
   "outputs": [],
   "source": [
    "# Q7"
   ]
  },
  {
   "cell_type": "code",
   "execution_count": 14,
   "id": "af704515-f2a3-4b64-9af9-633bc2baa6a4",
   "metadata": {},
   "outputs": [
    {
     "name": "stdout",
     "output_type": "stream",
     "text": [
      "Pythagorean triplet: [3, 4, 5]\n"
     ]
    }
   ],
   "source": [
    "def find_pythagorean_triplet(arr):\n",
    "    squared = {x * x: x for x in arr}  # Store squares of elements in a dictionary\n",
    "    \n",
    "    for i in range(len(arr)):\n",
    "        for j in range(i + 1, len(arr)):\n",
    "            sum_of_squares = arr[i] * arr[i] + arr[j] * arr[j]\n",
    "            if sum_of_squares in squared:\n",
    "                return [arr[i], arr[j], squared[sum_of_squares]]\n",
    "    \n",
    "    return \"No such triplet exists.\"\n",
    "\n",
    "# Example usage\n",
    "numbers = [3, 1, 4, 6, 5]\n",
    "triplet = find_pythagorean_triplet(numbers)\n",
    "if isinstance(triplet, list):\n",
    "    print(\"Pythagorean triplet:\", triplet)\n",
    "else:\n",
    "    print(triplet)"
   ]
  },
  {
   "cell_type": "code",
   "execution_count": 15,
   "id": "5ba51d45-711d-444e-a6f5-9c00d57ced57",
   "metadata": {},
   "outputs": [],
   "source": [
    "# Q8"
   ]
  },
  {
   "cell_type": "code",
   "execution_count": 16,
   "id": "63c68d7d-c9d6-459f-bf96-7e160a9b52c1",
   "metadata": {},
   "outputs": [
    {
     "name": "stdout",
     "output_type": "stream",
     "text": [
      "Majority element (if exists): 4\n"
     ]
    }
   ],
   "source": [
    "def find_majority_element(arr):\n",
    "    candidate = None\n",
    "    count = 0\n",
    "    \n",
    "    for num in arr:\n",
    "        if count == 0:\n",
    "            candidate = num\n",
    "            count += 1\n",
    "        elif num == candidate:\n",
    "            count += 1\n",
    "        else:\n",
    "            count -= 1\n",
    "    \n",
    "    # Check if the candidate is the majority element\n",
    "    if arr.count(candidate) > len(arr) // 2:\n",
    "        return candidate\n",
    "    else:\n",
    "        return \"No majority element\"\n",
    "\n",
    "# Example usage\n",
    "numbers = [3, 3, 4, 2, 4, 4, 2, 4, 4]\n",
    "result = find_majority_element(numbers)\n",
    "print(\"Majority element (if exists):\", result)"
   ]
  },
  {
   "cell_type": "code",
   "execution_count": 17,
   "id": "b4c81f10-de77-4b39-b331-6c149736ed92",
   "metadata": {},
   "outputs": [],
   "source": [
    "# Q9"
   ]
  },
  {
   "cell_type": "code",
   "execution_count": 19,
   "id": "38447453-3f9f-43b9-9ac6-591cb04dffbc",
   "metadata": {},
   "outputs": [
    {
     "name": "stdout",
     "output_type": "stream",
     "text": [
      "Row with maximum zeroes: 1\n",
      "Count of zeroes in that row: 3\n"
     ]
    }
   ],
   "source": [
    "def row_with_max_zeroes(matrix):\n",
    "    rows = len(matrix)\n",
    "    cols = len(matrix[0])\n",
    "    \n",
    "    max_zeroes = 0\n",
    "    row_index = -1\n",
    "    \n",
    "    for i in range(rows):\n",
    "        left = 0\n",
    "        right = cols - 1\n",
    "        index = -1\n",
    "        \n",
    "        # Binary search to find the first occurrence of 0 in the row\n",
    "        while left <= right:\n",
    "            mid = left + (right - left) // 2\n",
    "            \n",
    "            if matrix[i][mid] == 0:\n",
    "                index = mid\n",
    "                right = mid - 1\n",
    "            else:\n",
    "                left = mid + 1\n",
    "        \n",
    "        # Count zeroes from the found index to the end of the row\n",
    "        if index != -1:\n",
    "            count_zeroes = cols - index\n",
    "            if count_zeroes > max_zeroes:\n",
    "                max_zeroes = count_zeroes\n",
    "                row_index = i\n",
    "    \n",
    "    return row_index\n",
    "\n",
    "# Example usage\n",
    "matrix = [\n",
    "    [1, 1, 1, 0],\n",
    "    [1, 0, 0, 0],\n",
    "    [1, 1, 0, 0],\n",
    "    [1, 1, 1, 1]\n",
    "]\n",
    "\n",
    "result = row_with_max_zeroes(matrix)\n",
    "if result != -1:\n",
    "    print(\"Row with maximum zeroes:\", result)\n",
    "    print(\"Count of zeroes in that row:\", matrix[result].count(0))\n",
    "else:\n",
    "    print(\"No row found with zeroes.\")\n"
   ]
  }
 ],
 "metadata": {
  "kernelspec": {
   "display_name": "Python 3 (ipykernel)",
   "language": "python",
   "name": "python3"
  },
  "language_info": {
   "codemirror_mode": {
    "name": "ipython",
    "version": 3
   },
   "file_extension": ".py",
   "mimetype": "text/x-python",
   "name": "python",
   "nbconvert_exporter": "python",
   "pygments_lexer": "ipython3",
   "version": "3.10.8"
  }
 },
 "nbformat": 4,
 "nbformat_minor": 5
}
